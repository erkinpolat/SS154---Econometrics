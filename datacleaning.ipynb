{
  "nbformat": 4,
  "nbformat_minor": 0,
  "metadata": {
    "colab": {
      "name": "datacleaning.ipynb",
      "provenance": []
    },
    "kernelspec": {
      "name": "python3",
      "display_name": "Python 3"
    },
    "language_info": {
      "name": "python"
    }
  },
  "cells": [
    {
      "cell_type": "code",
      "metadata": {
        "id": "OW6D9QlSJo0j"
      },
      "source": [
        "import pandas as pd\n",
        "import numpy as np"
      ],
      "execution_count": null,
      "outputs": []
    },
    {
      "cell_type": "code",
      "metadata": {
        "id": "hWxiW0x4KCRC"
      },
      "source": [
        "df1 = pd.read_csv('minimum_wage - Minimum Wage Data.csv', encoding='latin')"
      ],
      "execution_count": null,
      "outputs": []
    },
    {
      "cell_type": "code",
      "metadata": {
        "colab": {
          "base_uri": "https://localhost:8080/",
          "height": 204
        },
        "id": "B8CzbxtSKugh",
        "outputId": "59763f69-4a56-4574-bab0-6b481fa825fd"
      },
      "source": [
        "df1.head()"
      ],
      "execution_count": null,
      "outputs": [
        {
          "output_type": "execute_result",
          "data": {
            "text/html": [
              "<div>\n",
              "<style scoped>\n",
              "    .dataframe tbody tr th:only-of-type {\n",
              "        vertical-align: middle;\n",
              "    }\n",
              "\n",
              "    .dataframe tbody tr th {\n",
              "        vertical-align: top;\n",
              "    }\n",
              "\n",
              "    .dataframe thead th {\n",
              "        text-align: right;\n",
              "    }\n",
              "</style>\n",
              "<table border=\"1\" class=\"dataframe\">\n",
              "  <thead>\n",
              "    <tr style=\"text-align: right;\">\n",
              "      <th></th>\n",
              "      <th>Year</th>\n",
              "      <th>State</th>\n",
              "      <th>effective_min_wage</th>\n",
              "      <th>effective_min_2020</th>\n",
              "    </tr>\n",
              "  </thead>\n",
              "  <tbody>\n",
              "    <tr>\n",
              "      <th>432</th>\n",
              "      <td>1976</td>\n",
              "      <td>Alabama</td>\n",
              "      <td>2.2</td>\n",
              "      <td>10.00</td>\n",
              "    </tr>\n",
              "    <tr>\n",
              "      <th>433</th>\n",
              "      <td>1976</td>\n",
              "      <td>Alaska</td>\n",
              "      <td>2.8</td>\n",
              "      <td>12.73</td>\n",
              "    </tr>\n",
              "    <tr>\n",
              "      <th>434</th>\n",
              "      <td>1976</td>\n",
              "      <td>Arizona</td>\n",
              "      <td>2.2</td>\n",
              "      <td>10.00</td>\n",
              "    </tr>\n",
              "    <tr>\n",
              "      <th>435</th>\n",
              "      <td>1976</td>\n",
              "      <td>Arkansas</td>\n",
              "      <td>2.2</td>\n",
              "      <td>10.00</td>\n",
              "    </tr>\n",
              "    <tr>\n",
              "      <th>436</th>\n",
              "      <td>1976</td>\n",
              "      <td>California</td>\n",
              "      <td>2.2</td>\n",
              "      <td>10.00</td>\n",
              "    </tr>\n",
              "  </tbody>\n",
              "</table>\n",
              "</div>"
            ],
            "text/plain": [
              "     Year       State  effective_min_wage  effective_min_2020\n",
              "432  1976     Alabama                 2.2               10.00\n",
              "433  1976      Alaska                 2.8               12.73\n",
              "434  1976     Arizona                 2.2               10.00\n",
              "435  1976    Arkansas                 2.2               10.00\n",
              "436  1976  California                 2.2               10.00"
            ]
          },
          "metadata": {
            "tags": []
          },
          "execution_count": 164
        }
      ]
    },
    {
      "cell_type": "code",
      "metadata": {
        "id": "eTTAzU6YLf2P"
      },
      "source": [
        "df2 = pd.read_csv('unemployment - ststdsadata.csv')"
      ],
      "execution_count": null,
      "outputs": []
    },
    {
      "cell_type": "code",
      "metadata": {
        "colab": {
          "base_uri": "https://localhost:8080/",
          "height": 204
        },
        "id": "RTdkmsiKLjOW",
        "outputId": "2b0b2bb1-a562-4104-a790-b0460bf64543"
      },
      "source": [
        "df2.head()"
      ],
      "execution_count": null,
      "outputs": [
        {
          "output_type": "execute_result",
          "data": {
            "text/html": [
              "<div>\n",
              "<style scoped>\n",
              "    .dataframe tbody tr th:only-of-type {\n",
              "        vertical-align: middle;\n",
              "    }\n",
              "\n",
              "    .dataframe tbody tr th {\n",
              "        vertical-align: top;\n",
              "    }\n",
              "\n",
              "    .dataframe thead th {\n",
              "        text-align: right;\n",
              "    }\n",
              "</style>\n",
              "<table border=\"1\" class=\"dataframe\">\n",
              "  <thead>\n",
              "    <tr style=\"text-align: right;\">\n",
              "      <th></th>\n",
              "      <th>Unnamed: 0</th>\n",
              "      <th>State</th>\n",
              "      <th>Year</th>\n",
              "      <th>Month</th>\n",
              "      <th>Population</th>\n",
              "      <th>Unemployment Rate</th>\n",
              "    </tr>\n",
              "  </thead>\n",
              "  <tbody>\n",
              "    <tr>\n",
              "      <th>0</th>\n",
              "      <td>1</td>\n",
              "      <td>Alabama</td>\n",
              "      <td>1976</td>\n",
              "      <td>1</td>\n",
              "      <td>2,605,000</td>\n",
              "      <td>6.6</td>\n",
              "    </tr>\n",
              "    <tr>\n",
              "      <th>1</th>\n",
              "      <td>2</td>\n",
              "      <td>Alaska</td>\n",
              "      <td>1976</td>\n",
              "      <td>1</td>\n",
              "      <td>232,000</td>\n",
              "      <td>7.1</td>\n",
              "    </tr>\n",
              "    <tr>\n",
              "      <th>2</th>\n",
              "      <td>4</td>\n",
              "      <td>Arizona</td>\n",
              "      <td>1976</td>\n",
              "      <td>1</td>\n",
              "      <td>1,621,000</td>\n",
              "      <td>10.2</td>\n",
              "    </tr>\n",
              "    <tr>\n",
              "      <th>3</th>\n",
              "      <td>5</td>\n",
              "      <td>Arkansas</td>\n",
              "      <td>1976</td>\n",
              "      <td>1</td>\n",
              "      <td>1,536,000</td>\n",
              "      <td>7.3</td>\n",
              "    </tr>\n",
              "    <tr>\n",
              "      <th>4</th>\n",
              "      <td>6</td>\n",
              "      <td>California</td>\n",
              "      <td>1976</td>\n",
              "      <td>1</td>\n",
              "      <td>15,621,000</td>\n",
              "      <td>9.2</td>\n",
              "    </tr>\n",
              "  </tbody>\n",
              "</table>\n",
              "</div>"
            ],
            "text/plain": [
              "   Unnamed: 0       State  Year  Month     Population  Unemployment Rate\n",
              "0           1     Alabama  1976      1   2,605,000                   6.6\n",
              "1           2      Alaska  1976      1     232,000                   7.1\n",
              "2           4     Arizona  1976      1   1,621,000                  10.2\n",
              "3           5    Arkansas  1976      1   1,536,000                   7.3\n",
              "4           6  California  1976      1  15,621,000                   9.2"
            ]
          },
          "metadata": {
            "tags": []
          },
          "execution_count": 62
        }
      ]
    },
    {
      "cell_type": "code",
      "metadata": {
        "colab": {
          "base_uri": "https://localhost:8080/"
        },
        "id": "FMZRL7aMRHpE",
        "outputId": "8e2857be-3570-4e14-e4dd-debb6236b68e"
      },
      "source": [
        "df1['State'].unique()\n",
        "\n",
        "#Guam, Puerto Rico, U.S. Virgin Islands"
      ],
      "execution_count": null,
      "outputs": [
        {
          "output_type": "execute_result",
          "data": {
            "text/plain": [
              "array(['Alabama', 'Alaska', 'Arizona', 'Arkansas', 'California',\n",
              "       'Colorado', 'Connecticut', 'Delaware', 'District of Columbia',\n",
              "       'Florida', 'Georgia', 'Guam', 'Hawaii', 'Idaho', 'Illinois',\n",
              "       'Indiana', 'Iowa', 'Kansas', 'Kentucky', 'Louisiana', 'Maine',\n",
              "       'Maryland', 'Massachusetts', 'Michigan', 'Minnesota',\n",
              "       'Mississippi', 'Missouri', 'Montana', 'Nebraska', 'Nevada',\n",
              "       'New Hampshire', 'New Jersey', 'New Mexico', 'New York',\n",
              "       'North Carolina', 'North Dakota', 'Ohio', 'Oklahoma', 'Oregon',\n",
              "       'Pennsylvania', 'Puerto Rico', 'Rhode Island', 'South Carolina',\n",
              "       'South Dakota', 'Tennessee', 'Texas', 'U.S. Virgin Islands',\n",
              "       'Utah', 'Vermont', 'Virginia', 'Washington', 'West Virginia',\n",
              "       'Wisconsin', 'Wyoming'], dtype=object)"
            ]
          },
          "metadata": {
            "tags": []
          },
          "execution_count": 63
        }
      ]
    },
    {
      "cell_type": "code",
      "metadata": {
        "id": "CSrt3u0_Ru7W"
      },
      "source": [
        "df1.drop(df1[df1['State'] == 'Guam'].index, inplace = True)\n",
        "df1.drop(df1[df1['State'] == 'Puerto Rico'].index, inplace = True)\n",
        "df1.drop(df1[df1['State'] == 'U.S. Virgin Islands'].index, inplace = True)"
      ],
      "execution_count": null,
      "outputs": []
    },
    {
      "cell_type": "code",
      "metadata": {
        "colab": {
          "base_uri": "https://localhost:8080/"
        },
        "id": "v3YCHbjBMIOw",
        "outputId": "b70b0ea1-6b8f-4269-e79d-d7870b33516c"
      },
      "source": [
        "df2['State'].unique()\n",
        "\n",
        "#Los Angeles County, New York city"
      ],
      "execution_count": null,
      "outputs": [
        {
          "output_type": "execute_result",
          "data": {
            "text/plain": [
              "array(['Alabama', 'Alaska', 'Arizona', 'Arkansas', 'California',\n",
              "       'Los Angeles County', 'Colorado', 'Connecticut', 'Delaware',\n",
              "       'District of Columbia', 'Florida', 'Georgia', 'Hawaii', 'Idaho',\n",
              "       'Illinois', 'Indiana', 'Iowa', 'Kansas', 'Kentucky', 'Louisiana',\n",
              "       'Maine', 'Maryland', 'Massachusetts', 'Michigan', 'Minnesota',\n",
              "       'Mississippi', 'Missouri', 'Montana', 'Nebraska', 'Nevada',\n",
              "       'New Hampshire', 'New Jersey', 'New Mexico', 'New York',\n",
              "       'New York city', 'North Carolina', 'North Dakota', 'Ohio',\n",
              "       'Oklahoma', 'Oregon', 'Pennsylvania', 'Rhode Island',\n",
              "       'South Carolina', 'South Dakota', 'Tennessee', 'Texas', 'Utah',\n",
              "       'Vermont', 'Virginia', 'Washington', 'West Virginia', 'Wisconsin',\n",
              "       'Wyoming'], dtype=object)"
            ]
          },
          "metadata": {
            "tags": []
          },
          "execution_count": 65
        }
      ]
    },
    {
      "cell_type": "code",
      "metadata": {
        "id": "Vyw_Sl1rR5C3"
      },
      "source": [
        "df2.drop(df2[df2['State'] == 'Los Angeles County'].index, inplace = True)\n",
        "df2.drop(df2[df2['State'] == 'New York city'].index, inplace = True)"
      ],
      "execution_count": null,
      "outputs": []
    },
    {
      "cell_type": "code",
      "metadata": {
        "colab": {
          "base_uri": "https://localhost:8080/"
        },
        "id": "D_L3YiK8K-NH",
        "outputId": "c4cf2b01-1a4c-4d1c-d74c-00869503c42e"
      },
      "source": [
        "df1['Year'].unique()"
      ],
      "execution_count": null,
      "outputs": [
        {
          "output_type": "execute_result",
          "data": {
            "text/plain": [
              "array([1968, 1969, 1970, 1971, 1972, 1973, 1974, 1975, 1976, 1977, 1978,\n",
              "       1979, 1980, 1981, 1982, 1983, 1984, 1985, 1986, 1987, 1988, 1989,\n",
              "       1990, 1991, 1992, 1993, 1994, 1995, 1996, 1997, 1998, 1999, 2000,\n",
              "       2001, 2002, 2003, 2004, 2005, 2006, 2007, 2008, 2009, 2010, 2011,\n",
              "       2012, 2013, 2014, 2015, 2016, 2017, 2018, 2019, 2020])"
            ]
          },
          "metadata": {
            "tags": []
          },
          "execution_count": 67
        }
      ]
    },
    {
      "cell_type": "code",
      "metadata": {
        "id": "MLaSQRz-SW4R"
      },
      "source": [
        "df1.drop(df1[df1['Year'] == 1968].index, inplace = True)\n",
        "df1.drop(df1[df1['Year'] == 1969].index, inplace = True)\n",
        "df1.drop(df1[df1['Year'] == 1970].index, inplace = True)\n",
        "df1.drop(df1[df1['Year'] == 1971].index, inplace = True)\n",
        "df1.drop(df1[df1['Year'] == 1972].index, inplace = True)\n",
        "df1.drop(df1[df1['Year'] == 1973].index, inplace = True)\n",
        "df1.drop(df1[df1['Year'] == 1974].index, inplace = True)\n",
        "df1.drop(df1[df1['Year'] == 1975].index, inplace = True)"
      ],
      "execution_count": null,
      "outputs": []
    },
    {
      "cell_type": "code",
      "metadata": {
        "colab": {
          "base_uri": "https://localhost:8080/"
        },
        "id": "pFEvltPfLMeW",
        "outputId": "b4b3d1bb-d0ec-4177-d386-3314d4219e7e"
      },
      "source": [
        "df2['Year'].unique()"
      ],
      "execution_count": null,
      "outputs": [
        {
          "output_type": "execute_result",
          "data": {
            "text/plain": [
              "array([1976, 1977, 1978, 1979, 1980, 1981, 1982, 1983, 1984, 1985, 1986,\n",
              "       1987, 1988, 1989, 1990, 1991, 1992, 1993, 1994, 1995, 1996, 1997,\n",
              "       1998, 1999, 2000, 2001, 2002, 2003, 2004, 2005, 2006, 2007, 2008,\n",
              "       2009, 2010, 2011, 2012, 2013, 2014, 2015, 2016, 2017, 2018, 2019,\n",
              "       2020, 2021])"
            ]
          },
          "metadata": {
            "tags": []
          },
          "execution_count": 69
        }
      ]
    },
    {
      "cell_type": "code",
      "metadata": {
        "id": "KbesMY-iSNWa"
      },
      "source": [
        "df2.drop(df2[df2['Year'] == 2021].index, inplace = True)"
      ],
      "execution_count": null,
      "outputs": []
    },
    {
      "cell_type": "code",
      "metadata": {
        "id": "mrnCPB4OSkWd"
      },
      "source": [
        "df2['effective_min_wage'] = pd.Series(np.random.randn(len(df2['Year'])), index=df2.index)"
      ],
      "execution_count": null,
      "outputs": []
    },
    {
      "cell_type": "code",
      "metadata": {
        "id": "jeBMcQCzTEHp"
      },
      "source": [
        "df2['effective_min_2020'] = pd.Series(np.random.randn(len(df2['Year'])), index=df2.index)"
      ],
      "execution_count": null,
      "outputs": []
    },
    {
      "cell_type": "code",
      "metadata": {
        "colab": {
          "base_uri": "https://localhost:8080/",
          "height": 419
        },
        "id": "fcnPChLjTtGL",
        "outputId": "9e4d20b3-86c6-4c40-dd4d-405e364d85dc"
      },
      "source": [
        "df2"
      ],
      "execution_count": null,
      "outputs": [
        {
          "output_type": "execute_result",
          "data": {
            "text/html": [
              "<div>\n",
              "<style scoped>\n",
              "    .dataframe tbody tr th:only-of-type {\n",
              "        vertical-align: middle;\n",
              "    }\n",
              "\n",
              "    .dataframe tbody tr th {\n",
              "        vertical-align: top;\n",
              "    }\n",
              "\n",
              "    .dataframe thead th {\n",
              "        text-align: right;\n",
              "    }\n",
              "</style>\n",
              "<table border=\"1\" class=\"dataframe\">\n",
              "  <thead>\n",
              "    <tr style=\"text-align: right;\">\n",
              "      <th></th>\n",
              "      <th>Unnamed: 0</th>\n",
              "      <th>State</th>\n",
              "      <th>Year</th>\n",
              "      <th>Month</th>\n",
              "      <th>Population</th>\n",
              "      <th>Unemployment Rate</th>\n",
              "      <th>effective_min_wage</th>\n",
              "      <th>effective_min_2020</th>\n",
              "    </tr>\n",
              "  </thead>\n",
              "  <tbody>\n",
              "    <tr>\n",
              "      <th>0</th>\n",
              "      <td>1</td>\n",
              "      <td>Alabama</td>\n",
              "      <td>1976</td>\n",
              "      <td>1</td>\n",
              "      <td>2,605,000</td>\n",
              "      <td>6.6</td>\n",
              "      <td>0.575692</td>\n",
              "      <td>-1.459675</td>\n",
              "    </tr>\n",
              "    <tr>\n",
              "      <th>1</th>\n",
              "      <td>2</td>\n",
              "      <td>Alaska</td>\n",
              "      <td>1976</td>\n",
              "      <td>1</td>\n",
              "      <td>232,000</td>\n",
              "      <td>7.1</td>\n",
              "      <td>0.973587</td>\n",
              "      <td>0.046469</td>\n",
              "    </tr>\n",
              "    <tr>\n",
              "      <th>2</th>\n",
              "      <td>4</td>\n",
              "      <td>Arizona</td>\n",
              "      <td>1976</td>\n",
              "      <td>1</td>\n",
              "      <td>1,621,000</td>\n",
              "      <td>10.2</td>\n",
              "      <td>-2.111236</td>\n",
              "      <td>-1.780518</td>\n",
              "    </tr>\n",
              "    <tr>\n",
              "      <th>3</th>\n",
              "      <td>5</td>\n",
              "      <td>Arkansas</td>\n",
              "      <td>1976</td>\n",
              "      <td>1</td>\n",
              "      <td>1,536,000</td>\n",
              "      <td>7.3</td>\n",
              "      <td>1.507732</td>\n",
              "      <td>-0.095461</td>\n",
              "    </tr>\n",
              "    <tr>\n",
              "      <th>4</th>\n",
              "      <td>6</td>\n",
              "      <td>California</td>\n",
              "      <td>1976</td>\n",
              "      <td>1</td>\n",
              "      <td>15,621,000</td>\n",
              "      <td>9.2</td>\n",
              "      <td>-0.773605</td>\n",
              "      <td>-1.693494</td>\n",
              "    </tr>\n",
              "    <tr>\n",
              "      <th>...</th>\n",
              "      <td>...</td>\n",
              "      <td>...</td>\n",
              "      <td>...</td>\n",
              "      <td>...</td>\n",
              "      <td>...</td>\n",
              "      <td>...</td>\n",
              "      <td>...</td>\n",
              "      <td>...</td>\n",
              "    </tr>\n",
              "    <tr>\n",
              "      <th>28615</th>\n",
              "      <td>51</td>\n",
              "      <td>Virginia</td>\n",
              "      <td>2020</td>\n",
              "      <td>12</td>\n",
              "      <td>6,738,044</td>\n",
              "      <td>5.6</td>\n",
              "      <td>-0.920038</td>\n",
              "      <td>-1.073446</td>\n",
              "    </tr>\n",
              "    <tr>\n",
              "      <th>28616</th>\n",
              "      <td>53</td>\n",
              "      <td>Washington</td>\n",
              "      <td>2020</td>\n",
              "      <td>12</td>\n",
              "      <td>6,131,010</td>\n",
              "      <td>6.3</td>\n",
              "      <td>1.161649</td>\n",
              "      <td>-0.693378</td>\n",
              "    </tr>\n",
              "    <tr>\n",
              "      <th>28617</th>\n",
              "      <td>54</td>\n",
              "      <td>West Virginia</td>\n",
              "      <td>2020</td>\n",
              "      <td>12</td>\n",
              "      <td>1,440,682</td>\n",
              "      <td>6.7</td>\n",
              "      <td>-0.565330</td>\n",
              "      <td>0.654830</td>\n",
              "    </tr>\n",
              "    <tr>\n",
              "      <th>28618</th>\n",
              "      <td>55</td>\n",
              "      <td>Wisconsin</td>\n",
              "      <td>2020</td>\n",
              "      <td>12</td>\n",
              "      <td>4,663,376</td>\n",
              "      <td>4.0</td>\n",
              "      <td>-0.046736</td>\n",
              "      <td>0.844674</td>\n",
              "    </tr>\n",
              "    <tr>\n",
              "      <th>28619</th>\n",
              "      <td>56</td>\n",
              "      <td>Wyoming</td>\n",
              "      <td>2020</td>\n",
              "      <td>12</td>\n",
              "      <td>455,877</td>\n",
              "      <td>5.2</td>\n",
              "      <td>1.194439</td>\n",
              "      <td>0.357576</td>\n",
              "    </tr>\n",
              "  </tbody>\n",
              "</table>\n",
              "<p>27540 rows × 8 columns</p>\n",
              "</div>"
            ],
            "text/plain": [
              "       Unnamed: 0          State  ...  effective_min_wage  effective_min_2020\n",
              "0               1        Alabama  ...            0.575692           -1.459675\n",
              "1               2         Alaska  ...            0.973587            0.046469\n",
              "2               4        Arizona  ...           -2.111236           -1.780518\n",
              "3               5       Arkansas  ...            1.507732           -0.095461\n",
              "4               6     California  ...           -0.773605           -1.693494\n",
              "...           ...            ...  ...                 ...                 ...\n",
              "28615          51       Virginia  ...           -0.920038           -1.073446\n",
              "28616          53     Washington  ...            1.161649           -0.693378\n",
              "28617          54  West Virginia  ...           -0.565330            0.654830\n",
              "28618          55      Wisconsin  ...           -0.046736            0.844674\n",
              "28619          56        Wyoming  ...            1.194439            0.357576\n",
              "\n",
              "[27540 rows x 8 columns]"
            ]
          },
          "metadata": {
            "tags": []
          },
          "execution_count": 73
        }
      ]
    },
    {
      "cell_type": "code",
      "metadata": {
        "id": "3mdHCfduT6tA"
      },
      "source": [
        "for i, row in df2.iterrows():\n",
        "  df2.loc[i, 'effective_min_wage'] = df1.loc[(df1['Year'] == row['Year']) & (df1['State'] == row['State'])]['effective_min_wage'].values[0]\n",
        "  df2.loc[i, 'effective_min_2020'] = df1.loc[(df1['Year'] == row['Year']) & (df1['State'] == row['State'])]['effective_min_2020'].values[0]\n",
        "\n",
        "  #df2.set_value(i,'effective_min_wage',min_wage)\n",
        "  #df2.set_value(i,'effective_min_2020',min_2020)"
      ],
      "execution_count": null,
      "outputs": []
    },
    {
      "cell_type": "code",
      "metadata": {
        "id": "ChygxZTTbX7Y"
      },
      "source": [
        ""
      ],
      "execution_count": null,
      "outputs": []
    },
    {
      "cell_type": "code",
      "metadata": {
        "colab": {
          "base_uri": "https://localhost:8080/",
          "height": 419
        },
        "id": "LUqQM7qfZAwT",
        "outputId": "27c64557-aab7-4e75-8337-f159c01d51dd"
      },
      "source": [
        "df2"
      ],
      "execution_count": null,
      "outputs": [
        {
          "output_type": "execute_result",
          "data": {
            "text/html": [
              "<div>\n",
              "<style scoped>\n",
              "    .dataframe tbody tr th:only-of-type {\n",
              "        vertical-align: middle;\n",
              "    }\n",
              "\n",
              "    .dataframe tbody tr th {\n",
              "        vertical-align: top;\n",
              "    }\n",
              "\n",
              "    .dataframe thead th {\n",
              "        text-align: right;\n",
              "    }\n",
              "</style>\n",
              "<table border=\"1\" class=\"dataframe\">\n",
              "  <thead>\n",
              "    <tr style=\"text-align: right;\">\n",
              "      <th></th>\n",
              "      <th>Unnamed: 0</th>\n",
              "      <th>State</th>\n",
              "      <th>Year</th>\n",
              "      <th>Month</th>\n",
              "      <th>Population</th>\n",
              "      <th>Unemployment Rate</th>\n",
              "      <th>effective_min_wage</th>\n",
              "      <th>effective_min_2020</th>\n",
              "    </tr>\n",
              "  </thead>\n",
              "  <tbody>\n",
              "    <tr>\n",
              "      <th>0</th>\n",
              "      <td>1</td>\n",
              "      <td>Alabama</td>\n",
              "      <td>1976</td>\n",
              "      <td>1</td>\n",
              "      <td>2,605,000</td>\n",
              "      <td>6.6</td>\n",
              "      <td>2.20</td>\n",
              "      <td>10.00</td>\n",
              "    </tr>\n",
              "    <tr>\n",
              "      <th>1</th>\n",
              "      <td>2</td>\n",
              "      <td>Alaska</td>\n",
              "      <td>1976</td>\n",
              "      <td>1</td>\n",
              "      <td>232,000</td>\n",
              "      <td>7.1</td>\n",
              "      <td>2.80</td>\n",
              "      <td>12.73</td>\n",
              "    </tr>\n",
              "    <tr>\n",
              "      <th>2</th>\n",
              "      <td>4</td>\n",
              "      <td>Arizona</td>\n",
              "      <td>1976</td>\n",
              "      <td>1</td>\n",
              "      <td>1,621,000</td>\n",
              "      <td>10.2</td>\n",
              "      <td>2.20</td>\n",
              "      <td>10.00</td>\n",
              "    </tr>\n",
              "    <tr>\n",
              "      <th>3</th>\n",
              "      <td>5</td>\n",
              "      <td>Arkansas</td>\n",
              "      <td>1976</td>\n",
              "      <td>1</td>\n",
              "      <td>1,536,000</td>\n",
              "      <td>7.3</td>\n",
              "      <td>2.20</td>\n",
              "      <td>10.00</td>\n",
              "    </tr>\n",
              "    <tr>\n",
              "      <th>4</th>\n",
              "      <td>6</td>\n",
              "      <td>California</td>\n",
              "      <td>1976</td>\n",
              "      <td>1</td>\n",
              "      <td>15,621,000</td>\n",
              "      <td>9.2</td>\n",
              "      <td>2.20</td>\n",
              "      <td>10.00</td>\n",
              "    </tr>\n",
              "    <tr>\n",
              "      <th>...</th>\n",
              "      <td>...</td>\n",
              "      <td>...</td>\n",
              "      <td>...</td>\n",
              "      <td>...</td>\n",
              "      <td>...</td>\n",
              "      <td>...</td>\n",
              "      <td>...</td>\n",
              "      <td>...</td>\n",
              "    </tr>\n",
              "    <tr>\n",
              "      <th>28615</th>\n",
              "      <td>51</td>\n",
              "      <td>Virginia</td>\n",
              "      <td>2020</td>\n",
              "      <td>12</td>\n",
              "      <td>6,738,044</td>\n",
              "      <td>5.6</td>\n",
              "      <td>7.25</td>\n",
              "      <td>7.25</td>\n",
              "    </tr>\n",
              "    <tr>\n",
              "      <th>28616</th>\n",
              "      <td>53</td>\n",
              "      <td>Washington</td>\n",
              "      <td>2020</td>\n",
              "      <td>12</td>\n",
              "      <td>6,131,010</td>\n",
              "      <td>6.3</td>\n",
              "      <td>13.50</td>\n",
              "      <td>13.50</td>\n",
              "    </tr>\n",
              "    <tr>\n",
              "      <th>28617</th>\n",
              "      <td>54</td>\n",
              "      <td>West Virginia</td>\n",
              "      <td>2020</td>\n",
              "      <td>12</td>\n",
              "      <td>1,440,682</td>\n",
              "      <td>6.7</td>\n",
              "      <td>8.75</td>\n",
              "      <td>8.75</td>\n",
              "    </tr>\n",
              "    <tr>\n",
              "      <th>28618</th>\n",
              "      <td>55</td>\n",
              "      <td>Wisconsin</td>\n",
              "      <td>2020</td>\n",
              "      <td>12</td>\n",
              "      <td>4,663,376</td>\n",
              "      <td>4.0</td>\n",
              "      <td>7.25</td>\n",
              "      <td>7.25</td>\n",
              "    </tr>\n",
              "    <tr>\n",
              "      <th>28619</th>\n",
              "      <td>56</td>\n",
              "      <td>Wyoming</td>\n",
              "      <td>2020</td>\n",
              "      <td>12</td>\n",
              "      <td>455,877</td>\n",
              "      <td>5.2</td>\n",
              "      <td>7.25</td>\n",
              "      <td>7.25</td>\n",
              "    </tr>\n",
              "  </tbody>\n",
              "</table>\n",
              "<p>27540 rows × 8 columns</p>\n",
              "</div>"
            ],
            "text/plain": [
              "       Unnamed: 0          State  ...  effective_min_wage  effective_min_2020\n",
              "0               1        Alabama  ...                2.20               10.00\n",
              "1               2         Alaska  ...                2.80               12.73\n",
              "2               4        Arizona  ...                2.20               10.00\n",
              "3               5       Arkansas  ...                2.20               10.00\n",
              "4               6     California  ...                2.20               10.00\n",
              "...           ...            ...  ...                 ...                 ...\n",
              "28615          51       Virginia  ...                7.25                7.25\n",
              "28616          53     Washington  ...               13.50               13.50\n",
              "28617          54  West Virginia  ...                8.75                8.75\n",
              "28618          55      Wisconsin  ...                7.25                7.25\n",
              "28619          56        Wyoming  ...                7.25                7.25\n",
              "\n",
              "[27540 rows x 8 columns]"
            ]
          },
          "metadata": {
            "tags": []
          },
          "execution_count": 125
        }
      ]
    },
    {
      "cell_type": "code",
      "metadata": {
        "id": "JE8Frl_QVRGs"
      },
      "source": [
        "df2.drop('Unnamed: 0', axis=1, inplace=True)"
      ],
      "execution_count": null,
      "outputs": []
    },
    {
      "cell_type": "code",
      "metadata": {
        "colab": {
          "base_uri": "https://localhost:8080/",
          "height": 419
        },
        "id": "5QmGT9X9WIJ-",
        "outputId": "b0165d30-ff32-4ddb-f827-279fdb6bc6af"
      },
      "source": [
        "df2"
      ],
      "execution_count": null,
      "outputs": [
        {
          "output_type": "execute_result",
          "data": {
            "text/html": [
              "<div>\n",
              "<style scoped>\n",
              "    .dataframe tbody tr th:only-of-type {\n",
              "        vertical-align: middle;\n",
              "    }\n",
              "\n",
              "    .dataframe tbody tr th {\n",
              "        vertical-align: top;\n",
              "    }\n",
              "\n",
              "    .dataframe thead th {\n",
              "        text-align: right;\n",
              "    }\n",
              "</style>\n",
              "<table border=\"1\" class=\"dataframe\">\n",
              "  <thead>\n",
              "    <tr style=\"text-align: right;\">\n",
              "      <th></th>\n",
              "      <th>State</th>\n",
              "      <th>Year</th>\n",
              "      <th>Month</th>\n",
              "      <th>Population</th>\n",
              "      <th>Unemployment Rate</th>\n",
              "      <th>effective_min_wage</th>\n",
              "      <th>effective_min_2020</th>\n",
              "    </tr>\n",
              "  </thead>\n",
              "  <tbody>\n",
              "    <tr>\n",
              "      <th>0</th>\n",
              "      <td>Alabama</td>\n",
              "      <td>1976</td>\n",
              "      <td>1</td>\n",
              "      <td>2,605,000</td>\n",
              "      <td>6.6</td>\n",
              "      <td>2.20</td>\n",
              "      <td>10.00</td>\n",
              "    </tr>\n",
              "    <tr>\n",
              "      <th>1</th>\n",
              "      <td>Alaska</td>\n",
              "      <td>1976</td>\n",
              "      <td>1</td>\n",
              "      <td>232,000</td>\n",
              "      <td>7.1</td>\n",
              "      <td>2.80</td>\n",
              "      <td>12.73</td>\n",
              "    </tr>\n",
              "    <tr>\n",
              "      <th>2</th>\n",
              "      <td>Arizona</td>\n",
              "      <td>1976</td>\n",
              "      <td>1</td>\n",
              "      <td>1,621,000</td>\n",
              "      <td>10.2</td>\n",
              "      <td>2.20</td>\n",
              "      <td>10.00</td>\n",
              "    </tr>\n",
              "    <tr>\n",
              "      <th>3</th>\n",
              "      <td>Arkansas</td>\n",
              "      <td>1976</td>\n",
              "      <td>1</td>\n",
              "      <td>1,536,000</td>\n",
              "      <td>7.3</td>\n",
              "      <td>2.20</td>\n",
              "      <td>10.00</td>\n",
              "    </tr>\n",
              "    <tr>\n",
              "      <th>4</th>\n",
              "      <td>California</td>\n",
              "      <td>1976</td>\n",
              "      <td>1</td>\n",
              "      <td>15,621,000</td>\n",
              "      <td>9.2</td>\n",
              "      <td>2.20</td>\n",
              "      <td>10.00</td>\n",
              "    </tr>\n",
              "    <tr>\n",
              "      <th>...</th>\n",
              "      <td>...</td>\n",
              "      <td>...</td>\n",
              "      <td>...</td>\n",
              "      <td>...</td>\n",
              "      <td>...</td>\n",
              "      <td>...</td>\n",
              "      <td>...</td>\n",
              "    </tr>\n",
              "    <tr>\n",
              "      <th>28615</th>\n",
              "      <td>Virginia</td>\n",
              "      <td>2020</td>\n",
              "      <td>12</td>\n",
              "      <td>6,738,044</td>\n",
              "      <td>5.6</td>\n",
              "      <td>7.25</td>\n",
              "      <td>7.25</td>\n",
              "    </tr>\n",
              "    <tr>\n",
              "      <th>28616</th>\n",
              "      <td>Washington</td>\n",
              "      <td>2020</td>\n",
              "      <td>12</td>\n",
              "      <td>6,131,010</td>\n",
              "      <td>6.3</td>\n",
              "      <td>13.50</td>\n",
              "      <td>13.50</td>\n",
              "    </tr>\n",
              "    <tr>\n",
              "      <th>28617</th>\n",
              "      <td>West Virginia</td>\n",
              "      <td>2020</td>\n",
              "      <td>12</td>\n",
              "      <td>1,440,682</td>\n",
              "      <td>6.7</td>\n",
              "      <td>8.75</td>\n",
              "      <td>8.75</td>\n",
              "    </tr>\n",
              "    <tr>\n",
              "      <th>28618</th>\n",
              "      <td>Wisconsin</td>\n",
              "      <td>2020</td>\n",
              "      <td>12</td>\n",
              "      <td>4,663,376</td>\n",
              "      <td>4.0</td>\n",
              "      <td>7.25</td>\n",
              "      <td>7.25</td>\n",
              "    </tr>\n",
              "    <tr>\n",
              "      <th>28619</th>\n",
              "      <td>Wyoming</td>\n",
              "      <td>2020</td>\n",
              "      <td>12</td>\n",
              "      <td>455,877</td>\n",
              "      <td>5.2</td>\n",
              "      <td>7.25</td>\n",
              "      <td>7.25</td>\n",
              "    </tr>\n",
              "  </tbody>\n",
              "</table>\n",
              "<p>27540 rows × 7 columns</p>\n",
              "</div>"
            ],
            "text/plain": [
              "               State  Year  ...  effective_min_wage effective_min_2020\n",
              "0            Alabama  1976  ...                2.20              10.00\n",
              "1             Alaska  1976  ...                2.80              12.73\n",
              "2            Arizona  1976  ...                2.20              10.00\n",
              "3           Arkansas  1976  ...                2.20              10.00\n",
              "4         California  1976  ...                2.20              10.00\n",
              "...              ...   ...  ...                 ...                ...\n",
              "28615       Virginia  2020  ...                7.25               7.25\n",
              "28616     Washington  2020  ...               13.50              13.50\n",
              "28617  West Virginia  2020  ...                8.75               8.75\n",
              "28618      Wisconsin  2020  ...                7.25               7.25\n",
              "28619        Wyoming  2020  ...                7.25               7.25\n",
              "\n",
              "[27540 rows x 7 columns]"
            ]
          },
          "metadata": {
            "tags": []
          },
          "execution_count": 128
        }
      ]
    },
    {
      "cell_type": "code",
      "metadata": {
        "id": "L7qMiQG0gEOv"
      },
      "source": [
        "df2['Population'] = df2['Population'].str.rstrip()\n"
      ],
      "execution_count": null,
      "outputs": []
    },
    {
      "cell_type": "code",
      "metadata": {
        "id": "bjJeJqXmiXew"
      },
      "source": [
        "df2 = df2.replace(',','', regex=True)"
      ],
      "execution_count": null,
      "outputs": []
    },
    {
      "cell_type": "code",
      "metadata": {
        "colab": {
          "base_uri": "https://localhost:8080/",
          "height": 35
        },
        "id": "aH-PS7hbgzez",
        "outputId": "7cb9b9d4-dbaa-4475-f198-f60e7bd49e21"
      },
      "source": [
        "df2['Population'][2]"
      ],
      "execution_count": null,
      "outputs": [
        {
          "output_type": "execute_result",
          "data": {
            "application/vnd.google.colaboratory.intrinsic+json": {
              "type": "string"
            },
            "text/plain": [
              "'1621000'"
            ]
          },
          "metadata": {
            "tags": []
          },
          "execution_count": 159
        }
      ]
    },
    {
      "cell_type": "code",
      "metadata": {
        "colab": {
          "base_uri": "https://localhost:8080/"
        },
        "id": "NTkBK9mWpYUk",
        "outputId": "0b11104b-9f48-42e9-9e74-7e89caae1f44"
      },
      "source": [
        "pd.to_numeric(df2['State'],errors='coerce')"
      ],
      "execution_count": null,
      "outputs": [
        {
          "output_type": "execute_result",
          "data": {
            "text/plain": [
              "0       NaN\n",
              "1       NaN\n",
              "2       NaN\n",
              "3       NaN\n",
              "4       NaN\n",
              "         ..\n",
              "28615   NaN\n",
              "28616   NaN\n",
              "28617   NaN\n",
              "28618   NaN\n",
              "28619   NaN\n",
              "Name: State, Length: 27540, dtype: float64"
            ]
          },
          "metadata": {
            "tags": []
          },
          "execution_count": 166
        }
      ]
    },
    {
      "cell_type": "code",
      "metadata": {
        "id": "LYWm8BuCp01r"
      },
      "source": [
        "df2['State'].unique()\n",
        "\n",
        "state_dic = {'Alabama': 1, \n",
        "             'Alaska': 2, \n",
        "             'Arizona': 3, \n",
        "             'Arkansas': 4, \n",
        "             'California': 5,\n",
        "             'Colorado': 6, \n",
        "             'Connecticut': 7, \n",
        "             'Delaware': 8, \n",
        "             'District of Columbia': 9,\n",
        "             'Florida': 10, \n",
        "             'Georgia': 11, \n",
        "             'Hawaii': 12, \n",
        "             'Idaho': 13, \n",
        "             'Illinois': 14, \n",
        "             'Indiana': 15,\n",
        "             'Iowa': 16, \n",
        "             'Kansas': 17, \n",
        "             'Kentucky': 18, \n",
        "             'Louisiana': 19, \n",
        "             'Maine': 20, \n",
        "             'Maryland': 21,\n",
        "             'Massachusetts': 22, \n",
        "             'Michigan': 23, \n",
        "             'Minnesota': 24, \n",
        "             'Mississippi': 25,\n",
        "             'Missouri': 26, \n",
        "             'Montana': 27, \n",
        "             'Nebraska': 28, \n",
        "             'Nevada': 29, \n",
        "             'New Hampshire': 30,\n",
        "             'New Jersey': 31, \n",
        "             'New Mexico': 32, \n",
        "             'New York': 33, \n",
        "             'North Carolina': 34,\n",
        "             'North Dakota': 35, \n",
        "             'Ohio': 36, \n",
        "             'Oklahoma': 37, \n",
        "             'Oregon': 38, \n",
        "             'Pennsylvania': 39,\n",
        "             'Rhode Island': 40, \n",
        "             'South Carolina': 41, \n",
        "             'South Dakota': 42, \n",
        "             'Tennessee': 43,\n",
        "             'Texas': 44, \n",
        "             'Utah': 45, \n",
        "             'Vermont': 46, \n",
        "             'Virginia': 47, \n",
        "             'Washington': 48,\n",
        "             'West Virginia': 49, \n",
        "             'Wisconsin': 50, \n",
        "             'Wyoming': 51}\n",
        "\n"
      ],
      "execution_count": null,
      "outputs": []
    },
    {
      "cell_type": "code",
      "metadata": {
        "id": "1pHuHRimrOfs"
      },
      "source": [
        "df2['State_id'] = pd.Series(np.random.randn(len(df2['Year'])), index=df2.index)"
      ],
      "execution_count": null,
      "outputs": []
    },
    {
      "cell_type": "code",
      "metadata": {
        "id": "mhwelZH4rd3V"
      },
      "source": [
        "for i, row in df2.iterrows():\n",
        "  df2.loc[i, 'State_id'] = state_dic[row['State']]"
      ],
      "execution_count": null,
      "outputs": []
    },
    {
      "cell_type": "code",
      "metadata": {
        "colab": {
          "base_uri": "https://localhost:8080/",
          "height": 419
        },
        "id": "CGMpGavarwIA",
        "outputId": "b107098c-755a-4b11-ddaa-04785db199ad"
      },
      "source": [
        "df2"
      ],
      "execution_count": null,
      "outputs": [
        {
          "output_type": "execute_result",
          "data": {
            "text/html": [
              "<div>\n",
              "<style scoped>\n",
              "    .dataframe tbody tr th:only-of-type {\n",
              "        vertical-align: middle;\n",
              "    }\n",
              "\n",
              "    .dataframe tbody tr th {\n",
              "        vertical-align: top;\n",
              "    }\n",
              "\n",
              "    .dataframe thead th {\n",
              "        text-align: right;\n",
              "    }\n",
              "</style>\n",
              "<table border=\"1\" class=\"dataframe\">\n",
              "  <thead>\n",
              "    <tr style=\"text-align: right;\">\n",
              "      <th></th>\n",
              "      <th>State</th>\n",
              "      <th>Year</th>\n",
              "      <th>Month</th>\n",
              "      <th>Population</th>\n",
              "      <th>Unemployment Rate</th>\n",
              "      <th>effective_min_wage</th>\n",
              "      <th>effective_min_2020</th>\n",
              "      <th>State_id</th>\n",
              "    </tr>\n",
              "  </thead>\n",
              "  <tbody>\n",
              "    <tr>\n",
              "      <th>0</th>\n",
              "      <td>Alabama</td>\n",
              "      <td>1976</td>\n",
              "      <td>1</td>\n",
              "      <td>2605000</td>\n",
              "      <td>6.6</td>\n",
              "      <td>2.20</td>\n",
              "      <td>10.00</td>\n",
              "      <td>1.0</td>\n",
              "    </tr>\n",
              "    <tr>\n",
              "      <th>1</th>\n",
              "      <td>Alaska</td>\n",
              "      <td>1976</td>\n",
              "      <td>1</td>\n",
              "      <td>232000</td>\n",
              "      <td>7.1</td>\n",
              "      <td>2.80</td>\n",
              "      <td>12.73</td>\n",
              "      <td>2.0</td>\n",
              "    </tr>\n",
              "    <tr>\n",
              "      <th>2</th>\n",
              "      <td>Arizona</td>\n",
              "      <td>1976</td>\n",
              "      <td>1</td>\n",
              "      <td>1621000</td>\n",
              "      <td>10.2</td>\n",
              "      <td>2.20</td>\n",
              "      <td>10.00</td>\n",
              "      <td>3.0</td>\n",
              "    </tr>\n",
              "    <tr>\n",
              "      <th>3</th>\n",
              "      <td>Arkansas</td>\n",
              "      <td>1976</td>\n",
              "      <td>1</td>\n",
              "      <td>1536000</td>\n",
              "      <td>7.3</td>\n",
              "      <td>2.20</td>\n",
              "      <td>10.00</td>\n",
              "      <td>4.0</td>\n",
              "    </tr>\n",
              "    <tr>\n",
              "      <th>4</th>\n",
              "      <td>California</td>\n",
              "      <td>1976</td>\n",
              "      <td>1</td>\n",
              "      <td>15621000</td>\n",
              "      <td>9.2</td>\n",
              "      <td>2.20</td>\n",
              "      <td>10.00</td>\n",
              "      <td>5.0</td>\n",
              "    </tr>\n",
              "    <tr>\n",
              "      <th>...</th>\n",
              "      <td>...</td>\n",
              "      <td>...</td>\n",
              "      <td>...</td>\n",
              "      <td>...</td>\n",
              "      <td>...</td>\n",
              "      <td>...</td>\n",
              "      <td>...</td>\n",
              "      <td>...</td>\n",
              "    </tr>\n",
              "    <tr>\n",
              "      <th>28615</th>\n",
              "      <td>Virginia</td>\n",
              "      <td>2020</td>\n",
              "      <td>12</td>\n",
              "      <td>6738044</td>\n",
              "      <td>5.6</td>\n",
              "      <td>7.25</td>\n",
              "      <td>7.25</td>\n",
              "      <td>47.0</td>\n",
              "    </tr>\n",
              "    <tr>\n",
              "      <th>28616</th>\n",
              "      <td>Washington</td>\n",
              "      <td>2020</td>\n",
              "      <td>12</td>\n",
              "      <td>6131010</td>\n",
              "      <td>6.3</td>\n",
              "      <td>13.50</td>\n",
              "      <td>13.50</td>\n",
              "      <td>48.0</td>\n",
              "    </tr>\n",
              "    <tr>\n",
              "      <th>28617</th>\n",
              "      <td>West Virginia</td>\n",
              "      <td>2020</td>\n",
              "      <td>12</td>\n",
              "      <td>1440682</td>\n",
              "      <td>6.7</td>\n",
              "      <td>8.75</td>\n",
              "      <td>8.75</td>\n",
              "      <td>49.0</td>\n",
              "    </tr>\n",
              "    <tr>\n",
              "      <th>28618</th>\n",
              "      <td>Wisconsin</td>\n",
              "      <td>2020</td>\n",
              "      <td>12</td>\n",
              "      <td>4663376</td>\n",
              "      <td>4.0</td>\n",
              "      <td>7.25</td>\n",
              "      <td>7.25</td>\n",
              "      <td>50.0</td>\n",
              "    </tr>\n",
              "    <tr>\n",
              "      <th>28619</th>\n",
              "      <td>Wyoming</td>\n",
              "      <td>2020</td>\n",
              "      <td>12</td>\n",
              "      <td>455877</td>\n",
              "      <td>5.2</td>\n",
              "      <td>7.25</td>\n",
              "      <td>7.25</td>\n",
              "      <td>51.0</td>\n",
              "    </tr>\n",
              "  </tbody>\n",
              "</table>\n",
              "<p>27540 rows × 8 columns</p>\n",
              "</div>"
            ],
            "text/plain": [
              "               State  Year  ...  effective_min_2020 State_id\n",
              "0            Alabama  1976  ...               10.00      1.0\n",
              "1             Alaska  1976  ...               12.73      2.0\n",
              "2            Arizona  1976  ...               10.00      3.0\n",
              "3           Arkansas  1976  ...               10.00      4.0\n",
              "4         California  1976  ...               10.00      5.0\n",
              "...              ...   ...  ...                 ...      ...\n",
              "28615       Virginia  2020  ...                7.25     47.0\n",
              "28616     Washington  2020  ...               13.50     48.0\n",
              "28617  West Virginia  2020  ...                8.75     49.0\n",
              "28618      Wisconsin  2020  ...                7.25     50.0\n",
              "28619        Wyoming  2020  ...                7.25     51.0\n",
              "\n",
              "[27540 rows x 8 columns]"
            ]
          },
          "metadata": {
            "tags": []
          },
          "execution_count": 171
        }
      ]
    },
    {
      "cell_type": "code",
      "metadata": {
        "id": "mrsFYa8utJcY"
      },
      "source": [
        "df2 = df2.loc[df2['Month'] == 1]"
      ],
      "execution_count": null,
      "outputs": []
    },
    {
      "cell_type": "code",
      "metadata": {
        "colab": {
          "base_uri": "https://localhost:8080/",
          "height": 419
        },
        "id": "JpudU8tJdNCM",
        "outputId": "5d4ea383-dc3c-41e9-9b9b-705e98c61240"
      },
      "source": [
        "df2"
      ],
      "execution_count": null,
      "outputs": [
        {
          "output_type": "execute_result",
          "data": {
            "text/html": [
              "<div>\n",
              "<style scoped>\n",
              "    .dataframe tbody tr th:only-of-type {\n",
              "        vertical-align: middle;\n",
              "    }\n",
              "\n",
              "    .dataframe tbody tr th {\n",
              "        vertical-align: top;\n",
              "    }\n",
              "\n",
              "    .dataframe thead th {\n",
              "        text-align: right;\n",
              "    }\n",
              "</style>\n",
              "<table border=\"1\" class=\"dataframe\">\n",
              "  <thead>\n",
              "    <tr style=\"text-align: right;\">\n",
              "      <th></th>\n",
              "      <th>State</th>\n",
              "      <th>Year</th>\n",
              "      <th>Month</th>\n",
              "      <th>Population</th>\n",
              "      <th>Unemployment Rate</th>\n",
              "      <th>effective_min_wage</th>\n",
              "      <th>effective_min_2020</th>\n",
              "      <th>State_id</th>\n",
              "    </tr>\n",
              "  </thead>\n",
              "  <tbody>\n",
              "    <tr>\n",
              "      <th>0</th>\n",
              "      <td>Alabama</td>\n",
              "      <td>1976</td>\n",
              "      <td>1</td>\n",
              "      <td>2605000</td>\n",
              "      <td>6.6</td>\n",
              "      <td>2.20</td>\n",
              "      <td>10.00</td>\n",
              "      <td>1.0</td>\n",
              "    </tr>\n",
              "    <tr>\n",
              "      <th>1</th>\n",
              "      <td>Alaska</td>\n",
              "      <td>1976</td>\n",
              "      <td>1</td>\n",
              "      <td>232000</td>\n",
              "      <td>7.1</td>\n",
              "      <td>2.80</td>\n",
              "      <td>12.73</td>\n",
              "      <td>2.0</td>\n",
              "    </tr>\n",
              "    <tr>\n",
              "      <th>2</th>\n",
              "      <td>Arizona</td>\n",
              "      <td>1976</td>\n",
              "      <td>1</td>\n",
              "      <td>1621000</td>\n",
              "      <td>10.2</td>\n",
              "      <td>2.20</td>\n",
              "      <td>10.00</td>\n",
              "      <td>3.0</td>\n",
              "    </tr>\n",
              "    <tr>\n",
              "      <th>3</th>\n",
              "      <td>Arkansas</td>\n",
              "      <td>1976</td>\n",
              "      <td>1</td>\n",
              "      <td>1536000</td>\n",
              "      <td>7.3</td>\n",
              "      <td>2.20</td>\n",
              "      <td>10.00</td>\n",
              "      <td>4.0</td>\n",
              "    </tr>\n",
              "    <tr>\n",
              "      <th>4</th>\n",
              "      <td>California</td>\n",
              "      <td>1976</td>\n",
              "      <td>1</td>\n",
              "      <td>15621000</td>\n",
              "      <td>9.2</td>\n",
              "      <td>2.20</td>\n",
              "      <td>10.00</td>\n",
              "      <td>5.0</td>\n",
              "    </tr>\n",
              "    <tr>\n",
              "      <th>...</th>\n",
              "      <td>...</td>\n",
              "      <td>...</td>\n",
              "      <td>...</td>\n",
              "      <td>...</td>\n",
              "      <td>...</td>\n",
              "      <td>...</td>\n",
              "      <td>...</td>\n",
              "      <td>...</td>\n",
              "    </tr>\n",
              "    <tr>\n",
              "      <th>28032</th>\n",
              "      <td>Virginia</td>\n",
              "      <td>2020</td>\n",
              "      <td>1</td>\n",
              "      <td>6711014</td>\n",
              "      <td>2.5</td>\n",
              "      <td>7.25</td>\n",
              "      <td>7.25</td>\n",
              "      <td>47.0</td>\n",
              "    </tr>\n",
              "    <tr>\n",
              "      <th>28033</th>\n",
              "      <td>Washington</td>\n",
              "      <td>2020</td>\n",
              "      <td>1</td>\n",
              "      <td>6067267</td>\n",
              "      <td>4.0</td>\n",
              "      <td>13.50</td>\n",
              "      <td>13.50</td>\n",
              "      <td>48.0</td>\n",
              "    </tr>\n",
              "    <tr>\n",
              "      <th>28034</th>\n",
              "      <td>West Virginia</td>\n",
              "      <td>2020</td>\n",
              "      <td>1</td>\n",
              "      <td>1447094</td>\n",
              "      <td>5.0</td>\n",
              "      <td>8.75</td>\n",
              "      <td>8.75</td>\n",
              "      <td>49.0</td>\n",
              "    </tr>\n",
              "    <tr>\n",
              "      <th>28035</th>\n",
              "      <td>Wisconsin</td>\n",
              "      <td>2020</td>\n",
              "      <td>1</td>\n",
              "      <td>4647953</td>\n",
              "      <td>3.3</td>\n",
              "      <td>7.25</td>\n",
              "      <td>7.25</td>\n",
              "      <td>50.0</td>\n",
              "    </tr>\n",
              "    <tr>\n",
              "      <th>28036</th>\n",
              "      <td>Wyoming</td>\n",
              "      <td>2020</td>\n",
              "      <td>1</td>\n",
              "      <td>453129</td>\n",
              "      <td>4.4</td>\n",
              "      <td>7.25</td>\n",
              "      <td>7.25</td>\n",
              "      <td>51.0</td>\n",
              "    </tr>\n",
              "  </tbody>\n",
              "</table>\n",
              "<p>2295 rows × 8 columns</p>\n",
              "</div>"
            ],
            "text/plain": [
              "               State  Year  ...  effective_min_2020 State_id\n",
              "0            Alabama  1976  ...               10.00      1.0\n",
              "1             Alaska  1976  ...               12.73      2.0\n",
              "2            Arizona  1976  ...               10.00      3.0\n",
              "3           Arkansas  1976  ...               10.00      4.0\n",
              "4         California  1976  ...               10.00      5.0\n",
              "...              ...   ...  ...                 ...      ...\n",
              "28032       Virginia  2020  ...                7.25     47.0\n",
              "28033     Washington  2020  ...               13.50     48.0\n",
              "28034  West Virginia  2020  ...                8.75     49.0\n",
              "28035      Wisconsin  2020  ...                7.25     50.0\n",
              "28036        Wyoming  2020  ...                7.25     51.0\n",
              "\n",
              "[2295 rows x 8 columns]"
            ]
          },
          "metadata": {
            "tags": []
          },
          "execution_count": 179
        }
      ]
    },
    {
      "cell_type": "code",
      "metadata": {
        "colab": {
          "base_uri": "https://localhost:8080/"
        },
        "id": "p1GAEV17c-z3",
        "outputId": "57cd053f-1001-412e-b833-f8360ffeda6b"
      },
      "source": [
        "from google.colab import drive\n",
        "drive.mount('drive')"
      ],
      "execution_count": null,
      "outputs": [
        {
          "output_type": "stream",
          "text": [
            "Drive already mounted at drive; to attempt to forcibly remount, call drive.mount(\"drive\", force_remount=True).\n"
          ],
          "name": "stdout"
        }
      ]
    },
    {
      "cell_type": "code",
      "metadata": {
        "id": "PBtzZ2SddhjF"
      },
      "source": [
        "df2.to_csv('final_data.csv')\n",
        "!cp final_data.csv \"drive/My Drive/\""
      ],
      "execution_count": null,
      "outputs": []
    },
    {
      "cell_type": "code",
      "metadata": {
        "id": "1YqgPy-dd_uj"
      },
      "source": [
        ""
      ],
      "execution_count": null,
      "outputs": []
    }
  ]
}